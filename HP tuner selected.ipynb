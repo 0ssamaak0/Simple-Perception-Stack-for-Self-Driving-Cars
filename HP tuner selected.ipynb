{
 "cells": [
  {
   "cell_type": "code",
   "execution_count": 2,
   "metadata": {},
   "outputs": [],
   "source": [
    "import numpy as np\n",
    "import matplotlib.pyplot as plt\n",
    "import cv2 as cv\n",
    "import time\n",
    "from binarization import binarization_choice"
   ]
  },
  {
   "cell_type": "code",
   "execution_count": 3,
   "metadata": {},
   "outputs": [],
   "source": [
    "def rescaleFrame(frame, scale = 0.75):\n",
    "    height = int(frame.shape[0] * scale)\n",
    "    width = int(frame.shape[1] * scale)\n",
    "\n",
    "    return cv.resize(frame, (width, height), interpolation=cv.INTER_AREA)"
   ]
  },
  {
   "cell_type": "code",
   "execution_count": 4,
   "metadata": {},
   "outputs": [],
   "source": [
    "def S_thresholder(S, thresh=(0, 255)):\n",
    "\n",
    "    S_threshold = S * 0\n",
    "    S_threshold[(S >= thresh[0]) & (S <= thresh[1])] = 1\n",
    "    \n",
    "    return S_threshold"
   ]
  },
  {
   "cell_type": "code",
   "execution_count": 101,
   "metadata": {},
   "outputs": [],
   "source": [
    "def abs_sobel_thresh(img, orient = 'x', sobel_kernel = 3, thresh = (0,255)):\n",
    "    if orient == \"x\":\n",
    "        sobel = cv.Sobel(img, cv.CV_64F, 1, 0, ksize = sobel_kernel)\n",
    "    elif orient == \"y\":\n",
    "        sobel = cv.Sobel(img, cv.CV_64F, 0, 1, ksize = sobel_kernel)\n",
    "\n",
    "\n",
    "    abs_sobel = np.abs(sobel)\n",
    "\n",
    "    scaled_sobel = np.uint8(255 * abs_sobel / np.max(abs_sobel))\n",
    "\n",
    "\n",
    "    sbinary = scaled_sobel * 0\n",
    "    sbinary[(scaled_sobel >= thresh[0]) & (scaled_sobel < thresh[1])] = 1\n",
    "\n",
    "    return sbinary"
   ]
  },
  {
   "cell_type": "code",
   "execution_count": 137,
   "metadata": {},
   "outputs": [
    {
     "data": {
      "text/plain": [
       "<matplotlib.image.AxesImage at 0x7f8d90a4c790>"
      ]
     },
     "execution_count": 137,
     "metadata": {},
     "output_type": "execute_result"
    },
    {
     "data": {
      "image/png": "[encoded data removed]",
      "text/plain": [
       "<Figure size 432x288 with 1 Axes>"
      ]
     },
     "metadata": {
      "needs_background": "light"
     },
     "output_type": "display_data"
    }
   ],
   "source": [
    "plt.imshow(canny_eq, \"gray\")"
   ]
  },
  {
   "cell_type": "code",
   "execution_count": 142,
   "metadata": {},
   "outputs": [
    {
     "data": {
      "text/plain": [
       "<matplotlib.image.AxesImage at 0x7f8d90a133a0>"
      ]
     },
     "execution_count": 142,
     "metadata": {},
     "output_type": "execute_result"
    },
    {
     "data": {
      "image/png": "[encoded data removed]",
      "text/plain": [
       "<Figure size 432x288 with 1 Axes>"
      ]
     },
     "metadata": {
      "needs_background": "light"
     },
     "output_type": "display_data"
    }
   ],
   "source": [
    "plt.imshow(abs_sobel_thresh(gray, \"x\", 3, (30, 100)), cmap = \"gray\")\n",
    "plt.imshow(sobelx)"
   ]
  },
  {
   "cell_type": "code",
   "execution_count": null,
   "metadata": {},
   "outputs": [],
   "source": [
    "def gray_thresh(gray, threshmin, threshmax):\n",
    "    binary = gray * 0\n",
    "    binary[(gray > threshmin) & (gray < threshmax)] == 1\n",
    "    \n",
    "    return binary\n"
   ]
  },
  {
   "cell_type": "code",
   "execution_count": 211,
   "metadata": {},
   "outputs": [
    {
     "data": {
      "text/plain": [
       "255.0"
      ]
     },
     "execution_count": 211,
     "metadata": {},
     "output_type": "execute_result"
    }
   ],
   "source": [
    "parameter = 255\n",
    "255 * (parameter / 255)"
   ]
  },
  {
   "cell_type": "code",
   "execution_count": 231,
   "metadata": {},
   "outputs": [
    {
     "data": {
      "text/plain": [
       "numpy.uint8"
      ]
     },
     "execution_count": 231,
     "metadata": {},
     "output_type": "execute_result"
    }
   ],
   "source": [
    "type(frame[0, 0, 0])"
   ]
  },
  {
   "cell_type": "code",
   "execution_count": 232,
   "metadata": {},
   "outputs": [],
   "source": [
    "def HLS_equlization(frame, H = 255, L = 255 ,S = 255):\n",
    "    frame = cv.cvtColor(frame, cv.COLOR_BGR2HLS)\n",
    "    H_eq = np.uint8(cv.equalizeHist(frame[:,:,0]) * (H / 255))\n",
    "    L_eq = np.uint8(cv.equalizeHist(frame[:,:,1]) * (L / 255))\n",
    "    S_eq = np.uint8(cv.equalizeHist(frame[:,:,2]) * (S / 255))\n",
    "\n",
    "    return cv.merLe((H_eq, L_eq, S_eq))"
   ]
  },
  {
   "cell_type": "code",
   "execution_count": 233,
   "metadata": {},
   "outputs": [],
   "source": [
    "def BGR_equlization(frame, B = 255, G = 255 ,R = 255):\n",
    "    B_eq = np.uint8(cv.equalizeHist(frame[:,:,0]) * (B / 255))\n",
    "    G_eq = np.uint8(cv.equalizeHist(frame[:,:,1]) * (G / 255))\n",
    "    R_eq = np.uint8(cv.equalizeHist(frame[:,:,2]) * (R / 255))\n",
    "\n",
    "    return cv.merge((B_eq, G_eq, R_eq))"
   ]
  },
  {
   "cell_type": "code",
   "execution_count": 234,
   "metadata": {},
   "outputs": [],
   "source": [
    "capture = cv.VideoCapture(\"Project_data/challenge_video.mp4\")\n",
    "time.sleep(2)\n",
    "\n",
    "while (True):\n",
    "    ret, frame = capture.read()\n",
    "    frame_equlized = BGR_equlization(frame, 200, 255, 255)\n",
    "\n",
    "    wider_frame = frame * 0\n",
    "\n",
    "    # Frames\n",
    "    gray = cv.cvtColor(frame, cv.COLOR_BGR2GRAY)\n",
    "\n",
    "    gray_equalized = cv.equalizeHist(gray)\n",
    "\n",
    "    S = cv.cvtColor(frame_equlized, cv.COLOR_BGR2HLS)[:,:,2]\n",
    "    \n",
    "    sobelx = abs_sobel_thresh(gray_equalized, \"x\", 3, (30, 100)) * 255\n",
    "    \n",
    "    sthresh = S_thresholder(S, (150, 255)) * 255\n",
    "\n",
    "    canny = cv.Canny(gray, 100, 200)\n",
    "\n",
    "    canny_eq = cv.Canny(gray_equalized, 200, 230)\n",
    "\n",
    "    canny_S = cv.Canny(S, 100, 150)\n",
    "\n",
    "    canny_S = cv.morphologyEx(canny_S, cv.MORPH_CLOSE, np.ones((5,5)))\n",
    "\n",
    "    binary = S * 0\n",
    "    binary[(sthresh == 255) | (canny_S == 255) | (sobelx == 255)] = 255\n",
    "\n",
    "    closing = cv.morphologyEx(binary, cv.MORPH_CLOSE, np.ones((7,7)))\n",
    "    \n",
    "\n",
    "    # Rescaling\n",
    "    frame = rescaleFrame(frame, 0.5)\n",
    "\n",
    "    frame_equlized = rescaleFrame(frame_equlized, 0.5)\n",
    "\n",
    "    gray = rescaleFrame(gray, 0.5)\n",
    "    gray = cv.cvtColor(gray, cv.COLOR_GRAY2BGR)\n",
    "\n",
    "    gray_equalized = rescaleFrame(gray_equalized, 0.5)\n",
    "    gray_equalized = cv.cvtColor(gray_equalized, cv.COLOR_GRAY2BGR)\n",
    "    \n",
    "    S = rescaleFrame(S, 0.5)\n",
    "    S = cv.cvtColor(S, cv.COLOR_GRAY2BGR)\n",
    "\n",
    "    sthresh = rescaleFrame(sthresh, 0.5)\n",
    "    sthresh = cv.cvtColor(sthresh, cv.COLOR_GRAY2BGR)\n",
    "\n",
    "    canny = rescaleFrame(canny, 0.5)\n",
    "    canny = cv.cvtColor(canny, cv.COLOR_GRAY2BGR)\n",
    "\n",
    "    canny_eq = rescaleFrame(canny_eq, 0.5)\n",
    "    canny_eq = cv.cvtColor(canny_eq, cv.COLOR_GRAY2BGR)\n",
    "\n",
    "\n",
    "    canny_S = rescaleFrame(canny_S, 0.5)\n",
    "    canny_S = cv.cvtColor(canny_S, cv.COLOR_GRAY2BGR)\n",
    "\n",
    "\n",
    "    closing = rescaleFrame(closing, 0.5)\n",
    "    closing = cv.cvtColor(closing, cv.COLOR_GRAY2BGR)\n",
    "\n",
    "    sobelx = rescaleFrame(sobelx, 0.5)\n",
    "    sobelx = cv.cvtColor(sobelx, cv.COLOR_GRAY2BGR)\n",
    "\n",
    "\n",
    "    # Previewing\n",
    "    # [0, 0]\n",
    "    wider_frame[0:wider_frame.shape[0] // 2, 0 : wider_frame.shape[1] // 2] = frame\n",
    "    # [0, 1]\n",
    "    wider_frame[0:wider_frame.shape[0] // 2, wider_frame.shape[1] // 2 : wider_frame.shape[1]] = frame_equlized\n",
    "    # [1, 0]\n",
    "    wider_frame[wider_frame.shape[0] // 2: wider_frame.shape[0], 0 : wider_frame.shape[1] // 2] = S\n",
    "    # [1, 1]\n",
    "    wider_frame[wider_frame.shape[0] // 2: wider_frame.shape[0], wider_frame.shape[1] // 2 : wider_frame.shape[1]] = sthresh\n",
    "\n",
    "    cv.imshow(\"Video\", wider_frame)\n",
    "\n",
    "    if cv.waitKey(16) & 0xFF == ord('q'):\n",
    "        break\n",
    "\n",
    "capture.release()\n",
    "cv.destroyAllWindows()"
   ]
  },
  {
   "cell_type": "code",
   "execution_count": null,
   "metadata": {},
   "outputs": [],
   "source": []
  }
 ],
 "metadata": {
  "interpreter": {
   "hash": "e7370f93d1d0cde622a1f8e1c04877d8463912d04d973331ad4851f04de6915a"
  },
  "kernelspec": {
   "display_name": "Python 3.8.10 64-bit",
   "language": "python",
   "name": "python3"
  },
  "language_info": {
   "codemirror_mode": {
    "name": "ipython",
    "version": 3
   },
   "file_extension": ".py",
   "mimetype": "text/x-python",
   "name": "python",
   "nbconvert_exporter": "python",
   "pygments_lexer": "ipython3",
   "version": "3.8.10"
  },
  "orig_nbformat": 4
 },
 "nbformat": 4,
 "nbformat_minor": 2
}
