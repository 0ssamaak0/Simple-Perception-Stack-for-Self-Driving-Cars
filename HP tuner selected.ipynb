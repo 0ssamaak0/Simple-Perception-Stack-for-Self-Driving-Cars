{
 "cells": [
  {
   "cell_type": "code",
   "execution_count": 5,
   "metadata": {},
   "outputs": [],
   "source": [
    "import numpy as np\n",
    "import matplotlib.pyplot as plt\n",
    "import cv2 as cv\n",
    "import time\n",
    "from binarization import selected"
   ]
  },
  {
   "cell_type": "code",
   "execution_count": 6,
   "metadata": {},
   "outputs": [],
   "source": [
    "def rescaleFrame(frame, scale = 0.75):\n",
    "    height = int(frame.shape[0] * scale)\n",
    "    width = int(frame.shape[1] * scale)\n",
    "\n",
    "    return cv.resize(frame, (width, height), interpolation=cv.INTER_AREA)"
   ]
  },
  {
   "cell_type": "code",
   "execution_count": 7,
   "metadata": {},
   "outputs": [],
   "source": [
    "def S_thresholder(S, thresh=(0, 255)):\n",
    "\n",
    "    S_threshold = S * 0\n",
    "    S_threshold[(S >= thresh[0]) & (S <= thresh[1])] = 1\n",
    "    \n",
    "    return S_threshold"
   ]
  },
  {
   "cell_type": "code",
   "execution_count": 9,
   "metadata": {},
   "outputs": [],
   "source": [
    "# def abs_sobel_thresh(img, orient = 'x', sobel_kernel = 3, thresh = (0,255)):\n",
    "#     if orient == \"x\":\n",
    "#         sobel = cv.Sobel(img, cv.CV_64F, 1, 0, ksize = sobel_kernel)\n",
    "#     elif orient == \"y\":\n",
    "#         sobel = cv.Sobel(img, cv.CV_64F, 0, 1, ksize = sobel_kernel)\n",
    "\n",
    "\n",
    "#     abs_sobel = np.abs(sobel)\n",
    "\n",
    "#     scaled_sobel = np.uint8(255 * abs_sobel / np.max(abs_sobel))\n",
    "\n",
    "\n",
    "#     sbinary = scaled_sobel * 0\n",
    "#     sbinary[(scaled_sobel >= thresh[0]) & (scaled_sobel < thresh[1])] = 1\n",
    "\n",
    "#     return sbinary"
   ]
  },
  {
   "cell_type": "code",
   "execution_count": 26,
   "metadata": {},
   "outputs": [],
   "source": [
    "capture = cv.VideoCapture(\"Project_data/project_video.mp4\")\n",
    "time.sleep(2)\n",
    "\n",
    "while (True):\n",
    "    ret, frame = capture.read()\n",
    "\n",
    "    wider_frame = frame * 0\n",
    "\n",
    "    S = cv.cvtColor(frame, cv.COLOR_BGR2HLS)[:,:,2]\n",
    "\n",
    "    sthresh = S_thresholder(S, (50, 225)) * 255\n",
    "\n",
    "    # sobelx = abs_sobel_thresh(S, \"x\", 5, (40, 200)) * 255\n",
    "    canny = cv.Canny(S, 50, 150)\n",
    "\n",
    "    binary_sobx_Sthreshs = selected(frame)\n",
    "\n",
    "\n",
    "    frame = rescaleFrame(frame, 0.5)\n",
    "\n",
    "    sthresh = rescaleFrame(sthresh, 0.5)\n",
    "    sthresh = cv.cvtColor(sthresh, cv.COLOR_GRAY2BGR)\n",
    "\n",
    "    canny = rescaleFrame(canny, 0.5)\n",
    "    canny = cv.cvtColor(canny, cv.COLOR_GRAY2BGR)\n",
    "\n",
    "    binary_sobx_Sthreshs = rescaleFrame(binary_sobx_Sthreshs, 0.5)\n",
    "    binary_sobx_Sthreshs = cv.cvtColor(binary_sobx_Sthreshs, cv.COLOR_GRAY2BGR)\n",
    "\n",
    "    # [0,0]\n",
    "    wider_frame[0:wider_frame.shape[0] // 2, 0 : wider_frame.shape[1] // 2] = frame\n",
    "    # [0, 1]\n",
    "    wider_frame[0:wider_frame.shape[0] // 2, wider_frame.shape[1] // 2 : wider_frame.shape[1]] = canny\n",
    "    # [1, 0]\n",
    "    wider_frame[wider_frame.shape[0] // 2: wider_frame.shape[0], 0 : wider_frame.shape[1] // 2] = sthresh\n",
    "    # [1, 1]\n",
    "    wider_frame[wider_frame.shape[0] // 2: wider_frame.shape[0], wider_frame.shape[1] // 2 : wider_frame.shape[1]] = binary_sobx_Sthreshs\n",
    "\n",
    "    cv.imshow(\"Video\", wider_frame)\n",
    "\n",
    "    if cv.waitKey(20) & 0xFF == ord('q'):\n",
    "        break\n",
    "# cv.waitKey(0)\n",
    "capture.release()\n",
    "cv.destroyAllWindows()"
   ]
  },
  {
   "cell_type": "code",
   "execution_count": 16,
   "metadata": {},
   "outputs": [
    {
     "data": {
      "text/plain": [
       "0"
      ]
     },
     "execution_count": 16,
     "metadata": {},
     "output_type": "execute_result"
    }
   ],
   "source": [
    "binary_sobx_Sthreshs.max()"
   ]
  },
  {
   "cell_type": "code",
   "execution_count": null,
   "metadata": {},
   "outputs": [],
   "source": [
    "capture = cv.VideoCapture(\"Project_data/project_video.mp4\")\n",
    "time.sleep(2)\n",
    "\n",
    "while (True):\n",
    "    ret, frame = capture.read()\n",
    "\n",
    "    wider_frame = frame * 0\n",
    "\n",
    "\n",
    "    S = cv.cvtColor(frame, cv.COLOR_BGR2HLS)[:,:,2]\n",
    "    \n",
    "    sthresh = S_thresholder(S, (45, 170)) * 255\n",
    "\n",
    "    sthresh_eq = S_thresholder(cv.equalizeHist(S), (150, 220)) * 255\n",
    "    \n",
    "\n",
    "\n",
    "    frame = rescaleFrame(frame, 0.5)\n",
    "\n",
    "    S = rescaleFrame(S, 0.5)\n",
    "    S = cv.cvtColor(S, cv.COLOR_GRAY2BGR)\n",
    "\n",
    "    sthresh = rescaleFrame(sthresh, 0.5)\n",
    "    sthresh = cv.cvtColor(sthresh, cv.COLOR_GRAY2BGR)\n",
    "\n",
    "\n",
    "\n",
    "    sthresh_eq = rescaleFrame(sthresh_eq, 0.5)\n",
    "    sthresh_eq = cv.cvtColor(sthresh_eq, cv.COLOR_GRAY2BGR)\n",
    "\n",
    "    wider_frame[0:wider_frame.shape[0] // 2, 0 : wider_frame.shape[1] // 2] = frame\n",
    "    wider_frame[wider_frame.shape[0] // 2: wider_frame.shape[0], 0 : wider_frame.shape[1] // 2] = S\n",
    "    wider_frame[0:wider_frame.shape[0] // 2, wider_frame.shape[1] // 2 : wider_frame.shape[1]] = sthresh\n",
    "    wider_frame[wider_frame.shape[0] // 2: wider_frame.shape[0], wider_frame.shape[1] // 2 : wider_frame.shape[1]] = sthresh_eq\n",
    "\n",
    "    cv.imshow(\"Video\", wider_frame)\n",
    "\n",
    "    if cv.waitKey(20) & 0xFF == ord('q'):\n",
    "        break\n",
    "\n",
    "capture.release()\n",
    "cv.destroyAllWindows()"
   ]
  },
  {
   "cell_type": "code",
   "execution_count": null,
   "metadata": {},
   "outputs": [],
   "source": []
  }
 ],
 "metadata": {
  "interpreter": {
   "hash": "e7370f93d1d0cde622a1f8e1c04877d8463912d04d973331ad4851f04de6915a"
  },
  "kernelspec": {
   "display_name": "Python 3.8.10 64-bit",
   "language": "python",
   "name": "python3"
  },
  "language_info": {
   "codemirror_mode": {
    "name": "ipython",
    "version": 3
   },
   "file_extension": ".py",
   "mimetype": "text/x-python",
   "name": "python",
   "nbconvert_exporter": "python",
   "pygments_lexer": "ipython3",
   "version": "3.8.10"
  },
  "orig_nbformat": 4
 },
 "nbformat": 4,
 "nbformat_minor": 2
}
